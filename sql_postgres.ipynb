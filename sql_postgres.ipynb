{
 "cells": [
  {
   "cell_type": "code",
   "execution_count": 1,
   "metadata": {},
   "outputs": [],
   "source": [
    "# Importar las librerias necesarias\n",
    "import psycopg2\n",
    "import requests \n",
    "import pandas as pd\n",
    "import lxml\n",
    "import html5lib\n",
    "import re\n",
    "from bs4 import BeautifulSoup \n",
    "from sqlalchemy import create_engine"
   ]
  },
  {
   "cell_type": "code",
   "execution_count": 2,
   "metadata": {},
   "outputs": [],
   "source": [
    "import load_dotenv\n",
    "from dotenv import dotenv_values\n",
    "import os"
   ]
  },
  {
   "cell_type": "code",
   "execution_count": 3,
   "metadata": {},
   "outputs": [],
   "source": [
    "# Seteo de las claves para el acceso\n",
    "env_vars = dotenv_values(\".env\")\n",
    "db_host = env_vars['host']\n",
    "db_port = env_vars['port']\n",
    "db_name = env_vars['database']\n",
    "db_user = env_vars['user']\n",
    "db_password = env_vars['password']"
   ]
  },
  {
   "cell_type": "code",
   "execution_count": 4,
   "metadata": {},
   "outputs": [],
   "source": [
    "'''Funcion para obtener la tabla de wikipedia'''\n",
    "def get_df(url):\n",
    "    # Get url\n",
    "    table_class=\"wikitable sortable jquery-tablesorter\"\n",
    "    response=requests.get(url)\n",
    "    # Parse the response \n",
    "    soup = BeautifulSoup(response.text, 'html.parser')\n",
    "    soup_tabla=soup.find('table',{'class':\"wikitable\"})\n",
    "    df=pd.read_html(str(soup_tabla), flavor= 'html5lib')\n",
    "    df=pd.DataFrame(df[0])\n",
    "    return df"
   ]
  },
  {
   "cell_type": "code",
   "execution_count": 5,
   "metadata": {},
   "outputs": [],
   "source": [
    "'''DF de paises'''\n",
    "df = get_df('https://en.wikipedia.org/wiki/List_of_ISO_3166_country_codes')"
   ]
  },
  {
   "cell_type": "code",
   "execution_count": 6,
   "metadata": {},
   "outputs": [
    {
     "data": {
      "text/html": [
       "<div>\n",
       "<style scoped>\n",
       "    .dataframe tbody tr th:only-of-type {\n",
       "        vertical-align: middle;\n",
       "    }\n",
       "\n",
       "    .dataframe tbody tr th {\n",
       "        vertical-align: top;\n",
       "    }\n",
       "\n",
       "    .dataframe thead th {\n",
       "        text-align: right;\n",
       "    }\n",
       "</style>\n",
       "<table border=\"1\" class=\"dataframe\">\n",
       "  <thead>\n",
       "    <tr style=\"text-align: right;\">\n",
       "      <th></th>\n",
       "      <th>country_name</th>\n",
       "      <th>official_state_name</th>\n",
       "      <th>sovereignty</th>\n",
       "      <th>alpha-2_code</th>\n",
       "      <th>alpha-3_code</th>\n",
       "      <th>numeric_code</th>\n",
       "      <th>subdivision_code_links</th>\n",
       "      <th>internet_cctld</th>\n",
       "    </tr>\n",
       "  </thead>\n",
       "  <tbody>\n",
       "    <tr>\n",
       "      <th>0</th>\n",
       "      <td>Afghanistan</td>\n",
       "      <td>The Islamic Republic of Afghanistan</td>\n",
       "      <td>UN member state</td>\n",
       "      <td>.mw-parser-output .monospaced{font-family:mono...</td>\n",
       "      <td>AFG</td>\n",
       "      <td>004</td>\n",
       "      <td>ISO 3166-2:AF</td>\n",
       "      <td>.af</td>\n",
       "    </tr>\n",
       "    <tr>\n",
       "      <th>1</th>\n",
       "      <td>Åland Islands</td>\n",
       "      <td>Åland</td>\n",
       "      <td>Finland</td>\n",
       "      <td>AX</td>\n",
       "      <td>ALA</td>\n",
       "      <td>248</td>\n",
       "      <td>ISO 3166-2:AX</td>\n",
       "      <td>.ax</td>\n",
       "    </tr>\n",
       "    <tr>\n",
       "      <th>2</th>\n",
       "      <td>Albania</td>\n",
       "      <td>The Republic of Albania</td>\n",
       "      <td>UN member state</td>\n",
       "      <td>AL</td>\n",
       "      <td>ALB</td>\n",
       "      <td>008</td>\n",
       "      <td>ISO 3166-2:AL</td>\n",
       "      <td>.al</td>\n",
       "    </tr>\n",
       "    <tr>\n",
       "      <th>3</th>\n",
       "      <td>Algeria</td>\n",
       "      <td>The People's Democratic Republic of Algeria</td>\n",
       "      <td>UN member state</td>\n",
       "      <td>DZ</td>\n",
       "      <td>DZA</td>\n",
       "      <td>012</td>\n",
       "      <td>ISO 3166-2:DZ</td>\n",
       "      <td>.dz</td>\n",
       "    </tr>\n",
       "    <tr>\n",
       "      <th>4</th>\n",
       "      <td>American Samoa</td>\n",
       "      <td>The Territory of American Samoa</td>\n",
       "      <td>United States</td>\n",
       "      <td>AS</td>\n",
       "      <td>ASM</td>\n",
       "      <td>016</td>\n",
       "      <td>ISO 3166-2:AS</td>\n",
       "      <td>.as</td>\n",
       "    </tr>\n",
       "  </tbody>\n",
       "</table>\n",
       "</div>"
      ],
      "text/plain": [
       "     country_name                          official_state_name  \\\n",
       "0     Afghanistan          The Islamic Republic of Afghanistan   \n",
       "1   Åland Islands                                        Åland   \n",
       "2         Albania                      The Republic of Albania   \n",
       "3         Algeria  The People's Democratic Republic of Algeria   \n",
       "4  American Samoa              The Territory of American Samoa   \n",
       "\n",
       "       sovereignty                                       alpha-2_code  \\\n",
       "0  UN member state  .mw-parser-output .monospaced{font-family:mono...   \n",
       "1          Finland                                                 AX   \n",
       "2  UN member state                                                 AL   \n",
       "3  UN member state                                                 DZ   \n",
       "4    United States                                                 AS   \n",
       "\n",
       "  alpha-3_code numeric_code subdivision_code_links internet_cctld  \n",
       "0          AFG          004          ISO 3166-2:AF            .af  \n",
       "1          ALA          248          ISO 3166-2:AX            .ax  \n",
       "2          ALB          008          ISO 3166-2:AL            .al  \n",
       "3          DZA          012          ISO 3166-2:DZ            .dz  \n",
       "4          ASM          016          ISO 3166-2:AS            .as  "
      ]
     },
     "execution_count": 6,
     "metadata": {},
     "output_type": "execute_result"
    }
   ],
   "source": [
    "'''Preprocesamiento del df previo a ser exportado a postgres'''\n",
    "df.columns = df.columns.get_level_values(1)\n",
    "df.columns = df.columns.str.replace(r'\\[[^\\]]*\\]', '', regex=True).str.replace(r'\\s', '_', regex=True).str.lower()\n",
    "df['country_name'] = df['country_name'].apply(lambda x: re.sub(r'\\[[^\\]]*\\]|\\([^)]*\\)', '', x).strip())\n",
    "df.head()"
   ]
  },
  {
   "cell_type": "code",
   "execution_count": 7,
   "metadata": {},
   "outputs": [],
   "source": [
    "'''DF del continente Americano'''\n",
    "america = get_df('https://en.wikipedia.org/wiki/Americas')\n"
   ]
  },
  {
   "cell_type": "code",
   "execution_count": 8,
   "metadata": {},
   "outputs": [
    {
     "data": {
      "text/html": [
       "<div>\n",
       "<style scoped>\n",
       "    .dataframe tbody tr th:only-of-type {\n",
       "        vertical-align: middle;\n",
       "    }\n",
       "\n",
       "    .dataframe tbody tr th {\n",
       "        vertical-align: top;\n",
       "    }\n",
       "\n",
       "    .dataframe thead th {\n",
       "        text-align: right;\n",
       "    }\n",
       "</style>\n",
       "<table border=\"1\" class=\"dataframe\">\n",
       "  <thead>\n",
       "    <tr style=\"text-align: right;\">\n",
       "      <th></th>\n",
       "      <th>country_name</th>\n",
       "      <th>total_area_(km2)</th>\n",
       "      <th>population</th>\n",
       "      <th>pop._density_(per_km2)</th>\n",
       "      <th>common_languages</th>\n",
       "      <th>capital</th>\n",
       "      <th>alpha-3_code</th>\n",
       "    </tr>\n",
       "  </thead>\n",
       "  <tbody>\n",
       "    <tr>\n",
       "      <th>0</th>\n",
       "      <td>Anguilla</td>\n",
       "      <td>91</td>\n",
       "      <td>13452.0</td>\n",
       "      <td>164.8</td>\n",
       "      <td>English</td>\n",
       "      <td>The Valley</td>\n",
       "      <td>AIA</td>\n",
       "    </tr>\n",
       "    <tr>\n",
       "      <th>1</th>\n",
       "      <td>Antigua and Barbuda</td>\n",
       "      <td>442</td>\n",
       "      <td>86295.0</td>\n",
       "      <td>199.1</td>\n",
       "      <td>Creole, English</td>\n",
       "      <td>St. John's</td>\n",
       "      <td>ATG</td>\n",
       "    </tr>\n",
       "    <tr>\n",
       "      <th>2</th>\n",
       "      <td>Argentina</td>\n",
       "      <td>2766890</td>\n",
       "      <td>42669500.0</td>\n",
       "      <td>14.3</td>\n",
       "      <td>Spanish</td>\n",
       "      <td>Buenos Aires</td>\n",
       "      <td>ARG</td>\n",
       "    </tr>\n",
       "    <tr>\n",
       "      <th>3</th>\n",
       "      <td>Aruba</td>\n",
       "      <td>180</td>\n",
       "      <td>101484.0</td>\n",
       "      <td>594.4</td>\n",
       "      <td>Papiamentu, Spanish, Dutch</td>\n",
       "      <td>Oranjestad</td>\n",
       "      <td>ABW</td>\n",
       "    </tr>\n",
       "    <tr>\n",
       "      <th>5</th>\n",
       "      <td>Barbados</td>\n",
       "      <td>430</td>\n",
       "      <td>285000.0</td>\n",
       "      <td>595.3</td>\n",
       "      <td>Bajan, English</td>\n",
       "      <td>Bridgetown</td>\n",
       "      <td>BRB</td>\n",
       "    </tr>\n",
       "  </tbody>\n",
       "</table>\n",
       "</div>"
      ],
      "text/plain": [
       "          country_name  total_area_(km2)  population  pop._density_(per_km2)  \\\n",
       "0             Anguilla                91     13452.0                   164.8   \n",
       "1  Antigua and Barbuda               442     86295.0                   199.1   \n",
       "2            Argentina           2766890  42669500.0                    14.3   \n",
       "3                Aruba               180    101484.0                   594.4   \n",
       "5             Barbados               430    285000.0                   595.3   \n",
       "\n",
       "             common_languages       capital alpha-3_code  \n",
       "0                     English    The Valley          AIA  \n",
       "1             Creole, English    St. John's          ATG  \n",
       "2                     Spanish  Buenos Aires          ARG  \n",
       "3  Papiamentu, Spanish, Dutch    Oranjestad          ABW  \n",
       "5              Bajan, English    Bridgetown          BRB  "
      ]
     },
     "execution_count": 8,
     "metadata": {},
     "output_type": "execute_result"
    }
   ],
   "source": [
    "'''Preprocesamiento del df previo a ser exportado a postgres'''\n",
    "america.columns = america.columns.str.replace(r'\\[[^\\]]*\\]', '', regex=True).str.lower().str.strip().str.replace(r'\\s', '_', regex=True)\n",
    "america['country_or_territory'] = america['country_or_territory'].apply(lambda x: re.sub(r'\\[[^\\]]*\\]|\\([^)]*\\)', '', x).strip())\n",
    "america.rename(columns = {'common_languages_(official_in_bold)':'common_languages', 'country_or_territory': 'country_name'}, inplace = True)\n",
    "america= america.applymap(lambda x: re.sub(r'\\[[^\\]]*\\]|\\([^)]*\\)', '', str(x)).strip())\n",
    "world = df[['country_name', 'alpha-3_code']]\n",
    "america_2 = america.merge(world, how= 'left', left_on = 'country_name', right_on = 'country_name')\n",
    "america_2 = america_2.dropna(subset=['alpha-3_code'])\n",
    "america_2['population'] = america_2['population'].apply(lambda x: x.replace(',', '.'))\n",
    "america_2[['total_area_(km2)', 'population', 'pop._density_(per_km2)']] = america_2[['total_area_(km2)', 'population', 'pop._density_(per_km2)']].apply(pd.to_numeric)\n",
    "america_2.head()"
   ]
  },
  {
   "cell_type": "code",
   "execution_count": 9,
   "metadata": {},
   "outputs": [
    {
     "data": {
      "text/plain": [
       "((62, 6), (271, 8), (52, 7))"
      ]
     },
     "execution_count": 9,
     "metadata": {},
     "output_type": "execute_result"
    }
   ],
   "source": [
    "'''Se corrobora la dimension de los df creados'''\n",
    "america.shape, df.shape, america_2.shape"
   ]
  },
  {
   "cell_type": "code",
   "execution_count": 10,
   "metadata": {},
   "outputs": [
    {
     "data": {
      "text/plain": [
       "52"
      ]
     },
     "execution_count": 10,
     "metadata": {},
     "output_type": "execute_result"
    }
   ],
   "source": [
    "'''Conexion con pgadmin'''\n",
    "conn = psycopg2.connect (\n",
    "    host=db_host,\n",
    "    port=db_port,\n",
    "    database=db_name,\n",
    "    user=db_user,\n",
    "    password=db_password\n",
    ")\n",
    "cursor = conn.cursor()\n",
    "engine = create_engine(f\"postgresql://{db_user}:{db_password}@{db_host}/{db_name}\")\n",
    "'''Se exportan los df'''\n",
    "df.to_sql(name = 'paises', con = engine, if_exists='replace', index=False)\n",
    "america_2.to_sql(name = 'america', con = engine, if_exists='replace', index=False)\n"
   ]
  },
  {
   "cell_type": "code",
   "execution_count": 11,
   "metadata": {},
   "outputs": [
    {
     "name": "stdout",
     "output_type": "stream",
     "text": [
      "Update operation successful.\n"
     ]
    }
   ],
   "source": [
    "try:\n",
    "    # Define el cambio\n",
    "    updating = \"UPDATE america SET country_name = %s, population = %s WHERE country_name = %s\"\n",
    "    # Valores a cambiar\n",
    "    new_value_ar = \"Republica Argentina\"\n",
    "    prior_value_ar = \"Argentina\"\n",
    "    new_population_ar =  46420985\n",
    "    new_value_uy = \"Republica Oriental del Uruguay\"\n",
    "    prior_value_uy = \"Uruguay\"\n",
    "    new_population_uy =  3509274\n",
    "    # Ejecuta el cambio\n",
    "    cursor.execute(updating, (new_value_ar, new_population_ar, prior_value_ar))\n",
    "    cursor.execute(updating, (new_value_uy, new_population_uy, prior_value_uy))\n",
    "    # Commit \n",
    "    conn.commit()\n",
    "    print(\"Update operation successful.\")\n",
    "\n",
    "except Exception as e:\n",
    "    # Se usa rollback, en el caso de que ocurra algun error\n",
    "    conn.rollback()\n",
    "    print(\"Update operation failed. Error:\", str(e))\n",
    "\n",
    "finally:\n",
    "    # Restaura el autocommit, y se cierra conexion\n",
    "    conn.autocommit = True\n",
    "    cursor.close()\n",
    "    conn.close()"
   ]
  }
 ],
 "metadata": {
  "kernelspec": {
   "display_name": "sqlwork",
   "language": "python",
   "name": "python3"
  },
  "language_info": {
   "codemirror_mode": {
    "name": "ipython",
    "version": 3
   },
   "file_extension": ".py",
   "mimetype": "text/x-python",
   "name": "python",
   "nbconvert_exporter": "python",
   "pygments_lexer": "ipython3",
   "version": "3.11.3"
  },
  "orig_nbformat": 4
 },
 "nbformat": 4,
 "nbformat_minor": 2
}
